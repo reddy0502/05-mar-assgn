{
 "cells": [
  {
   "cell_type": "markdown",
   "id": "36f9a3f3-eee0-4304-a817-3cb82fb06b81",
   "metadata": {},
   "source": [
    "1ans:"
   ]
  },
  {
   "cell_type": "markdown",
   "id": "0680c82c-b6da-4a7b-a774-50cc4755bcdc",
   "metadata": {},
   "source": [
    "Bokeh is a Python library for creating interactive visualizations and plots in web browsers"
   ]
  },
  {
   "cell_type": "code",
   "execution_count": 1,
   "id": "6d51906f-b19d-46dc-8744-f835fbfbabb5",
   "metadata": {},
   "outputs": [
    {
     "name": "stdout",
     "output_type": "stream",
     "text": [
      "Requirement already satisfied: bokeh in /opt/conda/lib/python3.10/site-packages (3.0.3)\n",
      "Requirement already satisfied: packaging>=16.8 in /opt/conda/lib/python3.10/site-packages (from bokeh) (22.0)\n",
      "Requirement already satisfied: pillow>=7.1.0 in /opt/conda/lib/python3.10/site-packages (from bokeh) (9.2.0)\n",
      "Requirement already satisfied: tornado>=5.1 in /opt/conda/lib/python3.10/site-packages (from bokeh) (6.1)\n",
      "Requirement already satisfied: xyzservices>=2021.09.1 in /opt/conda/lib/python3.10/site-packages (from bokeh) (2022.9.0)\n",
      "Requirement already satisfied: pandas>=1.2 in /opt/conda/lib/python3.10/site-packages (from bokeh) (1.5.2)\n",
      "Requirement already satisfied: Jinja2>=2.9 in /opt/conda/lib/python3.10/site-packages (from bokeh) (3.1.2)\n",
      "Requirement already satisfied: numpy>=1.11.3 in /opt/conda/lib/python3.10/site-packages (from bokeh) (1.23.5)\n",
      "Requirement already satisfied: PyYAML>=3.10 in /opt/conda/lib/python3.10/site-packages (from bokeh) (6.0)\n",
      "Requirement already satisfied: contourpy>=1 in /opt/conda/lib/python3.10/site-packages (from bokeh) (1.0.6)\n",
      "Requirement already satisfied: MarkupSafe>=2.0 in /opt/conda/lib/python3.10/site-packages (from Jinja2>=2.9->bokeh) (2.1.1)\n",
      "Requirement already satisfied: python-dateutil>=2.8.1 in /opt/conda/lib/python3.10/site-packages (from pandas>=1.2->bokeh) (2.8.2)\n",
      "Requirement already satisfied: pytz>=2020.1 in /opt/conda/lib/python3.10/site-packages (from pandas>=1.2->bokeh) (2022.6)\n",
      "Requirement already satisfied: six>=1.5 in /opt/conda/lib/python3.10/site-packages (from python-dateutil>=2.8.1->pandas>=1.2->bokeh) (1.16.0)\n",
      "Note: you may need to restart the kernel to use updated packages.\n"
     ]
    }
   ],
   "source": [
    "pip install bokeh"
   ]
  },
  {
   "cell_type": "code",
   "execution_count": 2,
   "id": "7ff4f3ff-dcb8-4cf3-a3af-b9cf3e9f0296",
   "metadata": {},
   "outputs": [],
   "source": [
    "from bokeh.plotting import figure, output_file, show\n",
    "\n",
    "\n",
    "x = [1, 2, 3, 4, 5]\n",
    "y = [6, 7, 2, 4, 5]\n",
    "\n",
    "output_file(\"scatter.html\")\n",
    "\n",
    "p = figure(title=\"Scatter Plot Example\", x_axis_label=\"X\", y_axis_label=\"Y\")\n",
    "\n",
    "p.scatter(x, y, size=10, color=\"red\")\n",
    "show(p)\n"
   ]
  },
  {
   "cell_type": "markdown",
   "id": "c18a33c7-6987-468b-97a2-4365a8c6c160",
   "metadata": {},
   "source": [
    "2ans:"
   ]
  },
  {
   "cell_type": "markdown",
   "id": "a3079322-fd88-40cb-897d-0cf02ceca4a0",
   "metadata": {},
   "source": [
    "Glyphs in Bokeh are the basic visual building blocks for creating visualizations. They are shapes or markers that are placed on a plot to represent data points, lines, or other graphical elements."
   ]
  },
  {
   "cell_type": "code",
   "execution_count": null,
   "id": "5c03f403-40bd-4069-825e-d205ac2266aa",
   "metadata": {},
   "outputs": [],
   "source": [
    "from bokeh.plotting import figure, output_file, show\n",
    "from bokeh.models import ColumnDataSource\n",
    "\n",
    "x = [1, 2, 3, 4, 5]\n",
    "y = [6, 7, 2, 4, 5]\n",
    "\n",
    "output_file(\"glyphs.html\")\n",
    "\n",
    "p = figure(title=\"Glyphs Example\", x_axis_label=\"X\", y_axis_label=\"Y\")\n",
    "\n",
    "source = ColumnDataSource(data=dict(x=x, y=y))\n",
    "\n",
    "p.circle('x', 'y', size=10, source=source, color=\"navy\")\n",
    "\n",
    "p.line('x', 'y', source=source, line_width=2)\n",
    "\n",
    "show(p)\n"
   ]
  },
  {
   "cell_type": "markdown",
   "id": "987abdd5-7611-4026-bf73-82a6e76c2534",
   "metadata": {},
   "source": [
    "3ans:"
   ]
  },
  {
   "cell_type": "markdown",
   "id": "37ed5cd6-cfb2-47ac-a3f5-94b2ee351480",
   "metadata": {},
   "source": [
    "Bokeh provides a wide range of options for customizing the appearance of a plot, including the axes, title, legend, and other visual elements."
   ]
  },
  {
   "cell_type": "code",
   "execution_count": null,
   "id": "6da79412-1eb9-4b7f-b91e-68aa7d587321",
   "metadata": {},
   "outputs": [],
   "source": [
    "from bokeh.plotting import figure, output_file, show\n",
    "from bokeh.models import ColumnDataSource\n",
    "\n",
    "# Create data\n",
    "x = [1, 2, 3, 4, 5]\n",
    "y1 = [6, 7, 2, 4, 5]\n",
    "y2 = [2, 5, 8, 3, 6]\n",
    "\n",
    "\n",
    "output_file(\"customization.html\")\n",
    "\n",
    "\n",
    "p = figure(title=\"Customization Example\", x_axis_label=\"X\", y_axis_label=\"Y\")\n",
    "\n",
    "\n",
    "source1 = ColumnDataSource(data=dict(x=x, y=y1))\n",
    "source2 = ColumnDataSource(data=dict(x=x, y=y2))\n",
    "\n",
    "\n",
    "p.circle('x', 'y', size=10, source=source1, color=\"navy\", legend_label=\"Data 1\")\n",
    "p.line('x', 'y', source=source2, line_width=2, color=\"red\", legend_label=\"Data 2\")\n",
    "\n",
    "\n",
    "p.title.text_font_size = \"20pt\"\n",
    "p.title.align = \"center\"\n",
    "p.xaxis.axis_label_text_font_size = \"16pt\"\n",
    "p.yaxis.axis_label_text_font_size = \"16pt\"\n",
    "p.legend.label_text_font_size = \"14pt\"\n",
    "p.legend.location = \"top_left\"\n",
    "\n",
    "\n",
    "show(p)\n"
   ]
  },
  {
   "cell_type": "markdown",
   "id": "179348d2-8403-4855-9258-5abd4723d192",
   "metadata": {},
   "source": [
    "4ans:"
   ]
  },
  {
   "cell_type": "markdown",
   "id": "2b565058-7cf3-4677-99bb-278cdca00048",
   "metadata": {},
   "source": [
    "Bokeh server is a powerful tool in the Bokeh library that allows you to create and serve interactive data visualizations in a web browser. With Bokeh server, you can create complex and dynamic plots that can be updated in real time in response to user input or changes in the data.\n",
    "\n",
    "To use Bokeh server, you need to first create a Python script that defines your interactive plot. You can use the same functions and objects as you would for a static Bokeh plot, but you will also need to add some additional code to specify how the plot should react to user input or data updates."
   ]
  },
  {
   "cell_type": "markdown",
   "id": "0d92d61a-a66e-4da8-9d89-92d5b1769e0e",
   "metadata": {},
   "source": [
    "5ans:"
   ]
  },
  {
   "cell_type": "code",
   "execution_count": null,
   "id": "9ece85f0-2d38-4577-a7d7-19a986ec5922",
   "metadata": {},
   "outputs": [],
   "source": [
    "from flask import Flask, render_template\n",
    "from bokeh.plotting import figure\n",
    "from bokeh.embed import components\n",
    "from bokeh.resources import CDN\n",
    "from bokeh.models import ColumnDataSource\n",
    "from random import randrange\n",
    "\n",
    "app = Flask(__name__)\n",
    "\n",
    "@app.route('/')\n",
    "def index():\n",
    "    # Create data\n",
    "    x = [1, 2, 3, 4, 5]\n",
    "    y = [randrange(1, 10) for i in range(5)]\n",
    "\n",
    "    # Create a new plot with a title and axis labels\n",
    "    p = figure(title=\"Flask Embedding\", x_axis_label=\"X\", y_axis_label=\"Y\")\n",
    "    source = ColumnDataSource(data=dict(x=x, y=y))\n",
    "\n",
    "    # Add circle glyphs to the plot\n",
    "    glyph = p.circle('x', 'y', size=10, source=source)\n",
    "\n",
    "    # Generate the script and HTML components for the plot\n",
    "    script, div = components(p, CDN)\n",
    "\n",
    "    # Render the Flask template with the script and div components\n",
    "    return render_template('index.html', script=script, div=div)\n",
    "\n"
   ]
  }
 ],
 "metadata": {
  "kernelspec": {
   "display_name": "Python 3 (ipykernel)",
   "language": "python",
   "name": "python3"
  },
  "language_info": {
   "codemirror_mode": {
    "name": "ipython",
    "version": 3
   },
   "file_extension": ".py",
   "mimetype": "text/x-python",
   "name": "python",
   "nbconvert_exporter": "python",
   "pygments_lexer": "ipython3",
   "version": "3.10.8"
  }
 },
 "nbformat": 4,
 "nbformat_minor": 5
}
